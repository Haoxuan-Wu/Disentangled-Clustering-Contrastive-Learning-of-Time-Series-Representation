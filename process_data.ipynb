{
 "cells": [
  {
   "cell_type": "code",
   "execution_count": 2,
   "source": [
    "import os\r\n",
    "import pandas as pd\r\n",
    "import numpy as np\r\n",
    "\r\n",
    "from utils import load_UCR_dataset\r\n",
    "\r\n",
    "np.random.seed(0)"
   ],
   "outputs": [],
   "metadata": {}
  },
  {
   "cell_type": "code",
   "execution_count": 3,
   "source": [
    "# data_name_list = ['CricketX', 'ECG5000', 'ChlorineConcentration', 'CricketY', 'CricketZ', 'FaceAll', 'FiftyWords', 'ToeSegmentation1', 'UWaveGestureLibraryZ', 'GunPoint']\r\n",
    "data_name_list = ['ECG5000', 'ChlorineConcentration', 'FaceAll', 'FiftyWords', 'UWaveGestureLibraryZ', 'GunPoint']\r\n",
    "data_path = os.path.join('./data', 'UCRArchive_2018')"
   ],
   "outputs": [],
   "metadata": {}
  },
  {
   "cell_type": "code",
   "execution_count": 4,
   "source": [
    "data_name_list = [x[0][len(data_path) + 1:] for x in os.walk(data_path)][1:]"
   ],
   "outputs": [],
   "metadata": {}
  },
  {
   "cell_type": "code",
   "execution_count": 1,
   "source": [
    "data_name_list.index('UWaveGestureLibraryZ')"
   ],
   "outputs": [
    {
     "output_type": "error",
     "ename": "NameError",
     "evalue": "name 'data_name_list' is not defined",
     "traceback": [
      "\u001b[1;31m---------------------------------------------------------------------------\u001b[0m",
      "\u001b[1;31mNameError\u001b[0m                                 Traceback (most recent call last)",
      "\u001b[1;32m<ipython-input-1-ac6f9397a445>\u001b[0m in \u001b[0;36m<module>\u001b[1;34m\u001b[0m\n\u001b[1;32m----> 1\u001b[1;33m \u001b[0mdata_name_list\u001b[0m\u001b[1;33m.\u001b[0m\u001b[0mindex\u001b[0m\u001b[1;33m(\u001b[0m\u001b[1;34m'UWaveGestureLibraryZ'\u001b[0m\u001b[1;33m)\u001b[0m\u001b[1;33m\u001b[0m\u001b[1;33m\u001b[0m\u001b[0m\n\u001b[0m",
      "\u001b[1;31mNameError\u001b[0m: name 'data_name_list' is not defined"
     ]
    }
   ],
   "metadata": {}
  },
  {
   "cell_type": "code",
   "execution_count": null,
   "source": [
    "train, train_labels, test, test_labels = load_UCR_dataset(os.path.join('./data', 'processed'), '6_data')\r\n",
    "print(train.shape, train_labels.shape)"
   ],
   "outputs": [],
   "metadata": {}
  },
  {
   "cell_type": "code",
   "execution_count": 8,
   "source": [
    "def is_nan_dataset(dataset):\r\n",
    "    nan_dataset = [\r\n",
    "        'DodgerLoopDay',\r\n",
    "        'DodgerLoopGame',\r\n",
    "        'DodgerLoopWeekend',\r\n",
    "        'MelbournePedestrian',\r\n",
    "        'Missing_value_and_variable_length_datasets_adjusted'\r\n",
    "    ]\r\n",
    "    for nan_set in nan_dataset:\r\n",
    "        if dataset.startswith(nan_set):\r\n",
    "            return True    \r\n",
    "    return False"
   ],
   "outputs": [],
   "metadata": {}
  },
  {
   "cell_type": "code",
   "execution_count": 9,
   "source": [
    "train_list = []\r\n",
    "label_list = []\r\n",
    "acc_len_list = [0]\r\n",
    "max_len = 0\r\n",
    "for i in range(len(data_name_list)):\r\n",
    "    if is_nan_dataset(data_name_list[i]):\r\n",
    "        continue\r\n",
    "    train, train_labels, test, test_labels = load_UCR_dataset(data_path, data_name_list[i])\r\n",
    "    varying = bool(np.isnan(np.sum(train)))\r\n",
    "    if varying:\r\n",
    "        continue\r\n",
    "    if train.shape[0] > 1000:\r\n",
    "        train = train[:1000]\r\n",
    "        train_labels = train_labels[:1000]\r\n",
    "    print(data_name_list[i], train.shape)\r\n",
    "    acc_len_list.append(acc_len_list[-1] + train.shape[0])\r\n",
    "    if train.shape[1] > max_len:\r\n",
    "        max_len = train.shape[1]\r\n",
    "    train_list.append(train)\r\n",
    "    label_list.append(train_labels)\r\n",
    "print(len(train_list))\r\n",
    "print(acc_len_list)\r\n",
    "print(max_len)"
   ],
   "outputs": [
    {
     "output_type": "stream",
     "name": "stdout",
     "text": [
      "ACSF1 (100, 1460)\n",
      "Adiac (390, 176)\n",
      "ArrowHead (36, 251)\n",
      "Beef (30, 470)\n",
      "BeetleFly (20, 512)\n",
      "BirdChicken (20, 512)\n",
      "BME (30, 128)\n",
      "Car (60, 577)\n",
      "CBF (30, 128)\n",
      "Chinatown (20, 24)\n",
      "ChlorineConcentration (467, 166)\n",
      "CinCECGTorso (40, 1639)\n",
      "Coffee (28, 286)\n",
      "Computers (250, 720)\n",
      "CricketX (390, 300)\n",
      "CricketY (390, 300)\n",
      "CricketZ (390, 300)\n",
      "Crop (1000, 46)\n",
      "DiatomSizeReduction (16, 345)\n",
      "DistalPhalanxOutlineAgeGroup (400, 80)\n",
      "DistalPhalanxOutlineCorrect (600, 80)\n",
      "DistalPhalanxTW (400, 80)\n",
      "Earthquakes (322, 512)\n",
      "ECG200 (100, 96)\n",
      "ECG5000 (500, 140)\n",
      "ECGFiveDays (23, 136)\n",
      "ElectricDevices (1000, 96)\n",
      "EOGHorizontalSignal (362, 1250)\n",
      "EOGVerticalSignal (362, 1250)\n",
      "EthanolLevel (504, 1751)\n",
      "FaceAll (560, 131)\n",
      "FaceFour (24, 350)\n",
      "FacesUCR (200, 131)\n",
      "FiftyWords (450, 270)\n",
      "Fish (175, 463)\n",
      "FordA (1000, 500)\n",
      "FordB (1000, 500)\n",
      "FreezerRegularTrain (150, 301)\n",
      "FreezerSmallTrain (28, 301)\n",
      "Fungi (18, 201)\n",
      "GunPoint (50, 150)\n",
      "GunPointAgeSpan (135, 150)\n",
      "GunPointMaleVersusFemale (135, 150)\n",
      "GunPointOldVersusYoung (136, 150)\n",
      "Ham (109, 431)\n",
      "HandOutlines (1000, 2709)\n",
      "Haptics (155, 1092)\n",
      "Herring (64, 512)\n",
      "HouseTwenty (40, 2000)\n",
      "InlineSkate (100, 1882)\n",
      "InsectEPGRegularTrain (62, 601)\n",
      "InsectEPGSmallTrain (17, 601)\n",
      "InsectWingbeatSound (220, 256)\n",
      "ItalyPowerDemand (67, 24)\n",
      "LargeKitchenAppliances (375, 720)\n",
      "Lightning2 (60, 637)\n",
      "Lightning7 (70, 319)\n",
      "Mallat (55, 1024)\n",
      "Meat (60, 448)\n",
      "MedicalImages (381, 99)\n",
      "MiddlePhalanxOutlineAgeGroup (400, 80)\n",
      "MiddlePhalanxOutlineCorrect (600, 80)\n",
      "MiddlePhalanxTW (399, 80)\n",
      "MixedShapesRegularTrain (500, 1024)\n",
      "MixedShapesSmallTrain (100, 1024)\n",
      "MoteStrain (20, 84)\n",
      "NonInvasiveFetalECGThorax1 (1000, 750)\n",
      "NonInvasiveFetalECGThorax2 (1000, 750)\n",
      "OliveOil (30, 570)\n",
      "OSULeaf (200, 427)\n",
      "PhalangesOutlinesCorrect (1000, 80)\n",
      "Phoneme (214, 1024)\n",
      "PigAirwayPressure (104, 2000)\n",
      "PigArtPressure (104, 2000)\n",
      "PigCVP (104, 2000)\n",
      "Plane (105, 144)\n",
      "PowerCons (180, 144)\n",
      "ProximalPhalanxOutlineAgeGroup (400, 80)\n",
      "ProximalPhalanxOutlineCorrect (600, 80)\n",
      "ProximalPhalanxTW (400, 80)\n",
      "RefrigerationDevices (375, 720)\n",
      "Rock (20, 2844)\n",
      "ScreenType (375, 720)\n",
      "SemgHandGenderCh2 (300, 1500)\n",
      "SemgHandMovementCh2 (450, 1500)\n",
      "SemgHandSubjectCh2 (450, 1500)\n",
      "ShapeletSim (20, 500)\n",
      "ShapesAll (600, 512)\n",
      "SmallKitchenAppliances (375, 720)\n",
      "SmoothSubspace (150, 15)\n",
      "SonyAIBORobotSurface1 (20, 70)\n",
      "SonyAIBORobotSurface2 (27, 65)\n",
      "StarLightCurves (1000, 1024)\n",
      "Strawberry (613, 235)\n",
      "SwedishLeaf (500, 128)\n",
      "Symbols (25, 398)\n",
      "SyntheticControl (300, 60)\n",
      "ToeSegmentation1 (40, 277)\n",
      "ToeSegmentation2 (36, 343)\n",
      "Trace (100, 275)\n",
      "TwoLeadECG (23, 82)\n",
      "TwoPatterns (1000, 128)\n",
      "UMD (36, 150)\n",
      "UWaveGestureLibraryAll (896, 945)\n",
      "UWaveGestureLibraryX (896, 315)\n",
      "UWaveGestureLibraryY (896, 315)\n",
      "UWaveGestureLibraryZ (896, 315)\n",
      "Wafer (1000, 152)\n",
      "Wine (57, 234)\n",
      "WordSynonyms (267, 270)\n",
      "Worms (181, 900)\n",
      "WormsTwoClass (181, 900)\n",
      "Yoga (300, 426)\n",
      "113\n",
      "[0, 100, 490, 526, 556, 576, 596, 626, 686, 716, 736, 1203, 1243, 1271, 1521, 1911, 2301, 2691, 3691, 3707, 4107, 4707, 5107, 5429, 5529, 6029, 6052, 7052, 7414, 7776, 8280, 8840, 8864, 9064, 9514, 9689, 10689, 11689, 11839, 11867, 11885, 11935, 12070, 12205, 12341, 12450, 13450, 13605, 13669, 13709, 13809, 13871, 13888, 14108, 14175, 14550, 14610, 14680, 14735, 14795, 15176, 15576, 16176, 16575, 17075, 17175, 17195, 18195, 19195, 19225, 19425, 20425, 20639, 20743, 20847, 20951, 21056, 21236, 21636, 22236, 22636, 23011, 23031, 23406, 23706, 24156, 24606, 24626, 25226, 25601, 25751, 25771, 25798, 26798, 27411, 27911, 27936, 28236, 28276, 28312, 28412, 28435, 29435, 29471, 30367, 31263, 32159, 33055, 34055, 34112, 34379, 34560, 34741, 35041]\n",
      "2844\n"
     ]
    }
   ],
   "metadata": {}
  },
  {
   "cell_type": "code",
   "execution_count": 10,
   "source": [
    "for i in range(len(train_list)):\r\n",
    "    shape = train_list[i].shape\r\n",
    "    narr = np.full([shape[0], max_len - shape[1]], np.nan)\r\n",
    "    train_list[i] = np.append(train_list[i], narr, axis=1)\r\n",
    "    print(train_list[i].shape)"
   ],
   "outputs": [
    {
     "output_type": "stream",
     "name": "stdout",
     "text": [
      "(100, 2844)\n",
      "(390, 2844)\n",
      "(36, 2844)\n",
      "(30, 2844)\n",
      "(20, 2844)\n",
      "(20, 2844)\n",
      "(30, 2844)\n",
      "(60, 2844)\n",
      "(30, 2844)\n",
      "(20, 2844)\n",
      "(467, 2844)\n",
      "(40, 2844)\n",
      "(28, 2844)\n",
      "(250, 2844)\n",
      "(390, 2844)\n",
      "(390, 2844)\n",
      "(390, 2844)\n",
      "(1000, 2844)\n",
      "(16, 2844)\n",
      "(400, 2844)\n",
      "(600, 2844)\n",
      "(400, 2844)\n",
      "(322, 2844)\n",
      "(100, 2844)\n",
      "(500, 2844)\n",
      "(23, 2844)\n",
      "(1000, 2844)\n",
      "(362, 2844)\n",
      "(362, 2844)\n",
      "(504, 2844)\n",
      "(560, 2844)\n",
      "(24, 2844)\n",
      "(200, 2844)\n",
      "(450, 2844)\n",
      "(175, 2844)\n",
      "(1000, 2844)\n",
      "(1000, 2844)\n",
      "(150, 2844)\n",
      "(28, 2844)\n",
      "(18, 2844)\n",
      "(50, 2844)\n",
      "(135, 2844)\n",
      "(135, 2844)\n",
      "(136, 2844)\n",
      "(109, 2844)\n",
      "(1000, 2844)\n",
      "(155, 2844)\n",
      "(64, 2844)\n",
      "(40, 2844)\n",
      "(100, 2844)\n",
      "(62, 2844)\n",
      "(17, 2844)\n",
      "(220, 2844)\n",
      "(67, 2844)\n",
      "(375, 2844)\n",
      "(60, 2844)\n",
      "(70, 2844)\n",
      "(55, 2844)\n",
      "(60, 2844)\n",
      "(381, 2844)\n",
      "(400, 2844)\n",
      "(600, 2844)\n",
      "(399, 2844)\n",
      "(500, 2844)\n",
      "(100, 2844)\n",
      "(20, 2844)\n",
      "(1000, 2844)\n",
      "(1000, 2844)\n",
      "(30, 2844)\n",
      "(200, 2844)\n",
      "(1000, 2844)\n",
      "(214, 2844)\n",
      "(104, 2844)\n",
      "(104, 2844)\n",
      "(104, 2844)\n",
      "(105, 2844)\n",
      "(180, 2844)\n",
      "(400, 2844)\n",
      "(600, 2844)\n",
      "(400, 2844)\n",
      "(375, 2844)\n",
      "(20, 2844)\n",
      "(375, 2844)\n",
      "(300, 2844)\n",
      "(450, 2844)\n",
      "(450, 2844)\n",
      "(20, 2844)\n",
      "(600, 2844)\n",
      "(375, 2844)\n",
      "(150, 2844)\n",
      "(20, 2844)\n",
      "(27, 2844)\n",
      "(1000, 2844)\n",
      "(613, 2844)\n",
      "(500, 2844)\n",
      "(25, 2844)\n",
      "(300, 2844)\n",
      "(40, 2844)\n",
      "(36, 2844)\n",
      "(100, 2844)\n",
      "(23, 2844)\n",
      "(1000, 2844)\n",
      "(36, 2844)\n",
      "(896, 2844)\n",
      "(896, 2844)\n",
      "(896, 2844)\n",
      "(896, 2844)\n",
      "(1000, 2844)\n",
      "(57, 2844)\n",
      "(267, 2844)\n",
      "(181, 2844)\n",
      "(181, 2844)\n",
      "(300, 2844)\n"
     ]
    }
   ],
   "metadata": {}
  },
  {
   "cell_type": "code",
   "execution_count": 14,
   "source": [
    "output_data = np.vstack([train_list[i] for i in range(len(train_list))])\r\n",
    "print(output_data.shape)"
   ],
   "outputs": [
    {
     "output_type": "stream",
     "name": "stdout",
     "text": [
      "(35041, 2844)\n"
     ]
    }
   ],
   "metadata": {}
  },
  {
   "cell_type": "code",
   "execution_count": 15,
   "source": [
    "in_data_labels = np.zeros(acc_len_list[-1], dtype=np.int)\r\n",
    "for i in range(len(acc_len_list) - 1):\r\n",
    "    in_data_labels[acc_len_list[i]:acc_len_list[i+1]] = label_list[i]\r\n",
    "print(in_data_labels)"
   ],
   "outputs": [
    {
     "output_type": "stream",
     "name": "stdout",
     "text": [
      "[9 9 9 ... 1 1 1]\n"
     ]
    }
   ],
   "metadata": {}
  },
  {
   "cell_type": "code",
   "execution_count": 14,
   "source": [
    "train, train_labels, test, test_labels = load_UCR_dataset(os.path.join('./data', 'processed'), 'ucr_all')\r\n",
    "print(train.shape)"
   ],
   "outputs": [
    {
     "output_type": "stream",
     "name": "stdout",
     "text": [
      "(35041, 2844)\n"
     ]
    }
   ],
   "metadata": {}
  },
  {
   "cell_type": "code",
   "execution_count": 3,
   "source": [
    "data_ratio = 0.75\r\n",
    "data_choice = np.random.choice(len(train), size=(int(len(train) * data_ratio)), replace=False)\r\n",
    "train_data = train[data_choice]\r\n",
    "print(train_data.shape)"
   ],
   "outputs": [
    {
     "output_type": "stream",
     "name": "stdout",
     "text": [
      "(26280, 2844)\n"
     ]
    }
   ],
   "metadata": {}
  },
  {
   "cell_type": "code",
   "execution_count": 4,
   "source": [
    "output_data = train_data"
   ],
   "outputs": [],
   "metadata": {}
  },
  {
   "cell_type": "code",
   "execution_count": 12,
   "source": [
    "labels = np.zeros(acc_len_list[-1], dtype=np.int)\r\n",
    "for i in range(len(acc_len_list) - 1):\r\n",
    "    labels[acc_len_list[i]:acc_len_list[i+1]] = i\r\n",
    "print(labels)"
   ],
   "outputs": [
    {
     "output_type": "stream",
     "name": "stdout",
     "text": [
      "[  0   0   0 ... 112 112 112]\n"
     ]
    }
   ],
   "metadata": {}
  },
  {
   "cell_type": "code",
   "execution_count": 16,
   "source": [
    "output_data = pd.DataFrame(output_data)\r\n",
    "output_data.insert(0, 'in_data_label', in_data_labels)\r\n",
    "output_data.insert(0, 'label', labels)"
   ],
   "outputs": [],
   "metadata": {}
  },
  {
   "cell_type": "code",
   "execution_count": 17,
   "source": [
    "output_data_name = 'ucr_all_label'"
   ],
   "outputs": [],
   "metadata": {}
  },
  {
   "cell_type": "code",
   "execution_count": 19,
   "source": [
    "output_path = os.path.join('./data/processed', output_data_name)\r\n",
    "if not os.path.exists(output_path):\r\n",
    "    os.mkdir(output_path)\r\n",
    "output_data.to_csv(os.path.join(output_path, output_data_name + '_TRAIN.tsv'), header=False, index=False, sep='\\t', na_rep=\"nan\")\r\n",
    "output_data.to_csv(os.path.join(output_path, output_data_name + '_TEST.tsv'), header=False, index=False, sep='\\t', na_rep=\"nan\")"
   ],
   "outputs": [],
   "metadata": {}
  },
  {
   "cell_type": "code",
   "execution_count": null,
   "source": [],
   "outputs": [],
   "metadata": {}
  }
 ],
 "metadata": {
  "interpreter": {
   "hash": "35f94fdc30ba66b5b034cfb6f2a4f3d260d94c7a2091af8eaca267d7a8d324e8"
  },
  "kernelspec": {
   "name": "python3",
   "display_name": "Python 3.8.10 64-bit ('ts': conda)"
  },
  "language_info": {
   "codemirror_mode": {
    "name": "ipython",
    "version": 3
   },
   "file_extension": ".py",
   "mimetype": "text/x-python",
   "name": "python",
   "nbconvert_exporter": "python",
   "pygments_lexer": "ipython3",
   "version": "3.8.10"
  },
  "orig_nbformat": 2
 },
 "nbformat": 4,
 "nbformat_minor": 2
}