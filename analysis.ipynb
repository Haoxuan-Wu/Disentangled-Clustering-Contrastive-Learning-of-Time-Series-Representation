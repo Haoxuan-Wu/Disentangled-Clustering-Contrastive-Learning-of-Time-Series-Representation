{
 "cells": [
  {
   "cell_type": "code",
   "execution_count": 1,
   "source": [
    "import torch\r\n",
    "import torch.nn.functional as F\r\n",
    "import pandas as pd\r\n",
    "import numpy as np\r\n",
    "import os\r\n",
    "from sklearn.cluster import KMeans\r\n",
    "from sklearn.manifold import TSNE\r\n",
    "import matplotlib.pyplot as plt\r\n",
    "\r\n",
    "from model import OursModel\r\n",
    "import utils"
   ],
   "outputs": [],
   "metadata": {}
  },
  {
   "cell_type": "code",
   "execution_count": 2,
   "source": [
    "device = utils.init_dl_program(0, seed=0, max_threads=8)"
   ],
   "outputs": [],
   "metadata": {}
  },
  {
   "cell_type": "code",
   "execution_count": 3,
   "source": [
    "def is_nan_dataset(dataset):\r\n",
    "    nan_dataset = [\r\n",
    "        'DodgerLoopDay',\r\n",
    "        'DodgerLoopGame',\r\n",
    "        'DodgerLoopWeekend',\r\n",
    "        'MelbournePedestrian',\r\n",
    "        'Missing_value_and_variable_length_datasets_adjusted'\r\n",
    "    ]\r\n",
    "    for nan_set in nan_dataset:\r\n",
    "        if dataset.startswith(nan_set):\r\n",
    "            return True    \r\n",
    "    return False"
   ],
   "outputs": [],
   "metadata": {}
  },
  {
   "cell_type": "code",
   "execution_count": 4,
   "source": [
    "data_path = os.path.join('./data', 'UCRArchive_2018')\r\n",
    "data_name_list = [x[0][len(data_path) + 1:] for x in os.walk(data_path)][1:]\r\n",
    "train_list = []\r\n",
    "for i in range(len(data_name_list)):\r\n",
    "    if is_nan_dataset(data_name_list[i]):\r\n",
    "        continue\r\n",
    "    train, train_labels, test, test_labels = utils.load_UCR_dataset(data_path, data_name_list[i])\r\n",
    "    varying = bool(np.isnan(np.sum(train)))\r\n",
    "    if varying:\r\n",
    "        continue\r\n",
    "    print(data_name_list[i], train.shape)\r\n",
    "    train_list.append(data_name_list[i])\r\n",
    "print(len(train_list))"
   ],
   "outputs": [
    {
     "output_type": "stream",
     "name": "stdout",
     "text": [
      "ACSF1 (100, 1460)\n",
      "Adiac (390, 176)\n",
      "ArrowHead (36, 251)\n",
      "Beef (30, 470)\n",
      "BeetleFly (20, 512)\n",
      "BirdChicken (20, 512)\n",
      "BME (30, 128)\n",
      "Car (60, 577)\n",
      "CBF (30, 128)\n",
      "Chinatown (20, 24)\n",
      "ChlorineConcentration (467, 166)\n",
      "CinCECGTorso (40, 1639)\n",
      "Coffee (28, 286)\n",
      "Computers (250, 720)\n",
      "CricketX (390, 300)\n",
      "CricketY (390, 300)\n",
      "CricketZ (390, 300)\n",
      "Crop (7200, 46)\n",
      "DiatomSizeReduction (16, 345)\n",
      "DistalPhalanxOutlineAgeGroup (400, 80)\n",
      "DistalPhalanxOutlineCorrect (600, 80)\n",
      "DistalPhalanxTW (400, 80)\n",
      "Earthquakes (322, 512)\n",
      "ECG200 (100, 96)\n",
      "ECG5000 (500, 140)\n",
      "ECGFiveDays (23, 136)\n",
      "ElectricDevices (8926, 96)\n",
      "EOGHorizontalSignal (362, 1250)\n",
      "EOGVerticalSignal (362, 1250)\n",
      "EthanolLevel (504, 1751)\n",
      "FaceAll (560, 131)\n",
      "FaceFour (24, 350)\n",
      "FacesUCR (200, 131)\n",
      "FiftyWords (450, 270)\n",
      "Fish (175, 463)\n",
      "FordA (3601, 500)\n",
      "FordB (3636, 500)\n",
      "FreezerRegularTrain (150, 301)\n",
      "FreezerSmallTrain (28, 301)\n",
      "Fungi (18, 201)\n",
      "GunPoint (50, 150)\n",
      "GunPointAgeSpan (135, 150)\n",
      "GunPointMaleVersusFemale (135, 150)\n",
      "GunPointOldVersusYoung (136, 150)\n",
      "Ham (109, 431)\n",
      "HandOutlines (1000, 2709)\n",
      "Haptics (155, 1092)\n",
      "Herring (64, 512)\n",
      "HouseTwenty (40, 2000)\n",
      "InlineSkate (100, 1882)\n",
      "InsectEPGRegularTrain (62, 601)\n",
      "InsectEPGSmallTrain (17, 601)\n",
      "InsectWingbeatSound (220, 256)\n",
      "ItalyPowerDemand (67, 24)\n",
      "LargeKitchenAppliances (375, 720)\n",
      "Lightning2 (60, 637)\n",
      "Lightning7 (70, 319)\n",
      "Mallat (55, 1024)\n",
      "Meat (60, 448)\n",
      "MedicalImages (381, 99)\n",
      "MiddlePhalanxOutlineAgeGroup (400, 80)\n",
      "MiddlePhalanxOutlineCorrect (600, 80)\n",
      "MiddlePhalanxTW (399, 80)\n",
      "MixedShapesRegularTrain (500, 1024)\n",
      "MixedShapesSmallTrain (100, 1024)\n",
      "MoteStrain (20, 84)\n",
      "NonInvasiveFetalECGThorax1 (1800, 750)\n",
      "NonInvasiveFetalECGThorax2 (1800, 750)\n",
      "OliveOil (30, 570)\n",
      "OSULeaf (200, 427)\n",
      "PhalangesOutlinesCorrect (1800, 80)\n",
      "Phoneme (214, 1024)\n",
      "PigAirwayPressure (104, 2000)\n",
      "PigArtPressure (104, 2000)\n",
      "PigCVP (104, 2000)\n",
      "Plane (105, 144)\n",
      "PowerCons (180, 144)\n",
      "ProximalPhalanxOutlineAgeGroup (400, 80)\n",
      "ProximalPhalanxOutlineCorrect (600, 80)\n",
      "ProximalPhalanxTW (400, 80)\n",
      "RefrigerationDevices (375, 720)\n",
      "Rock (20, 2844)\n",
      "ScreenType (375, 720)\n",
      "SemgHandGenderCh2 (300, 1500)\n",
      "SemgHandMovementCh2 (450, 1500)\n",
      "SemgHandSubjectCh2 (450, 1500)\n",
      "ShapeletSim (20, 500)\n",
      "ShapesAll (600, 512)\n",
      "SmallKitchenAppliances (375, 720)\n",
      "SmoothSubspace (150, 15)\n",
      "SonyAIBORobotSurface1 (20, 70)\n",
      "SonyAIBORobotSurface2 (27, 65)\n",
      "StarLightCurves (1000, 1024)\n",
      "Strawberry (613, 235)\n",
      "SwedishLeaf (500, 128)\n",
      "Symbols (25, 398)\n",
      "SyntheticControl (300, 60)\n",
      "ToeSegmentation1 (40, 277)\n",
      "ToeSegmentation2 (36, 343)\n",
      "Trace (100, 275)\n",
      "TwoLeadECG (23, 82)\n",
      "TwoPatterns (1000, 128)\n",
      "UMD (36, 150)\n",
      "UWaveGestureLibraryAll (896, 945)\n",
      "UWaveGestureLibraryX (896, 315)\n",
      "UWaveGestureLibraryY (896, 315)\n",
      "UWaveGestureLibraryZ (896, 315)\n",
      "Wafer (1000, 152)\n",
      "Wine (57, 234)\n",
      "WordSynonyms (267, 270)\n",
      "Worms (181, 900)\n",
      "WormsTwoClass (181, 900)\n",
      "Yoga (300, 426)\n",
      "113\n"
     ]
    }
   ],
   "metadata": {}
  },
  {
   "cell_type": "code",
   "execution_count": 18,
   "source": [
    "data_name = 'ucr_all'\r\n",
    "# train_data, train_labels, test_data, test_labels = utils.load_UCR_dataset('data/processed', data_name)\r\n",
    "# # train_data, train_labels, test_data, test_labels = utils.load_UCR_dataset('data/UCRArchive_2018', data_name)\r\n",
    "# print(train_data.shape)"
   ],
   "outputs": [],
   "metadata": {}
  },
  {
   "cell_type": "code",
   "execution_count": 19,
   "source": [
    "config = dict(\r\n",
    "        classes=3,\r\n",
    "        sim_fun='cosine',\r\n",
    "        cate_fun='softmax',\r\n",
    "    )"
   ],
   "outputs": [],
   "metadata": {}
  },
  {
   "cell_type": "code",
   "execution_count": 20,
   "source": [
    "model = OursModel(\r\n",
    "        device=device,\r\n",
    "        **config\r\n",
    "    )"
   ],
   "outputs": [],
   "metadata": {}
  },
  {
   "cell_type": "code",
   "execution_count": 21,
   "source": [
    "model_dir = 'training/' + data_name + '__' + 'valid' + '_' + '20210708_092611/'\r\n",
    "# model_dir = 'training/' + data_name + '__' + 'valid' + '_' + '20210712_062350/'"
   ],
   "outputs": [],
   "metadata": {}
  },
  {
   "cell_type": "code",
   "execution_count": 22,
   "source": [
    "model.load(model_dir + 'model_i2000.pth')"
   ],
   "outputs": [],
   "metadata": {}
  },
  {
   "cell_type": "code",
   "execution_count": 10,
   "source": [
    "data_name = 'ucr_all_label'\r\n",
    "# train_data, train_labels, test_data, test_labels = utils.load_UCR_dataset('data/UCRArchive_2018', data_name)\r\n",
    "train_data, train_labels, test_data, test_labels = utils.load_UCR_dataset('data/processed', data_name)\r\n",
    "print(train_data.shape)\r\n",
    "print(test_data.shape)"
   ],
   "outputs": [
    {
     "output_type": "stream",
     "name": "stdout",
     "text": [
      "(35041, 2845)\n",
      "(35041, 2845)\n"
     ]
    }
   ],
   "metadata": {}
  },
  {
   "cell_type": "code",
   "execution_count": 11,
   "source": [
    "in_data_labels = train_data[:,0]\r\n",
    "train_data = train_data[:,1:]\r\n",
    "print(in_data_labels.shape)\r\n",
    "print(train_data.shape)"
   ],
   "outputs": [
    {
     "output_type": "stream",
     "name": "stdout",
     "text": [
      "(35041,)\n",
      "(35041, 2844)\n"
     ]
    }
   ],
   "metadata": {}
  },
  {
   "cell_type": "code",
   "execution_count": 12,
   "source": [
    "in_data_labels = in_data_labels.astype(int)\r\n",
    "print(in_data_labels)"
   ],
   "outputs": [
    {
     "output_type": "stream",
     "name": "stdout",
     "text": [
      "[9 9 9 ... 1 1 1]\n"
     ]
    }
   ],
   "metadata": {}
  },
  {
   "cell_type": "code",
   "execution_count": null,
   "source": [
    "model.net.cate_fun = 'gumbel'"
   ],
   "outputs": [],
   "metadata": {}
  },
  {
   "cell_type": "code",
   "execution_count": null,
   "source": [
    "cluster_features = model.encode(train_data, mode='class')\r\n",
    "print(cluster_features.shape)"
   ],
   "outputs": [],
   "metadata": {}
  },
  {
   "cell_type": "code",
   "execution_count": null,
   "source": [
    "cates = model.encode(test_data, mode='cate').cpu().detach().numpy()\r\n",
    "print(cates)"
   ],
   "outputs": [],
   "metadata": {}
  },
  {
   "cell_type": "code",
   "execution_count": null,
   "source": [
    "cates_labels = np.argmax(cates, axis=1)\r\n",
    "print(cates_labels)"
   ],
   "outputs": [],
   "metadata": {}
  },
  {
   "cell_type": "code",
   "execution_count": 23,
   "source": [
    "features = model.encode(train_data)"
   ],
   "outputs": [],
   "metadata": {}
  },
  {
   "cell_type": "code",
   "execution_count": null,
   "source": [
    "norm = torch.linalg.vector_norm(features, dim=-1).cpu().detach().numpy()\r\n",
    "print(norm.shape)\r\n",
    "plt.hist(norm, bins=100)\r\n",
    "plt.title(data_name)"
   ],
   "outputs": [],
   "metadata": {}
  },
  {
   "cell_type": "code",
   "execution_count": null,
   "source": [
    "features = model.encode(train_data).cpu().numpy()\r\n",
    "svm = utils.fit_svm(features, train_labels)\r\n",
    "test_features = model.encode(test_data).cpu().numpy()\r\n",
    "pred_labels = svm.predict(test_features)\r\n",
    "\r\n",
    "train_score = svm.score(features, train_labels)\r\n",
    "score = svm.score(test_features, test_labels)\r\n",
    "print(train_score, score)"
   ],
   "outputs": [],
   "metadata": {}
  },
  {
   "cell_type": "code",
   "execution_count": null,
   "source": [
    "pred = svm.predict(test_features)\r\n",
    "test_features = torch.from_numpy(test_features)"
   ],
   "outputs": [],
   "metadata": {}
  },
  {
   "cell_type": "code",
   "execution_count": null,
   "source": [
    "features_list = model.encode(test_data, mode='list')"
   ],
   "outputs": [],
   "metadata": {}
  },
  {
   "cell_type": "code",
   "execution_count": null,
   "source": [
    "features_list = torch.split(features_list, 320, dim=1)"
   ],
   "outputs": [],
   "metadata": {}
  },
  {
   "cell_type": "code",
   "execution_count": null,
   "source": [
    "for i in range(3):\r\n",
    "    features_k = features_list[i][cates_labels==i]\r\n",
    "    norm = torch.linalg.vector_norm(features_k, dim=-1).cpu().detach().numpy()\r\n",
    "    plt.hist(norm, bins=100)\r\n",
    "    plt.title(data_name)\r\n",
    "    print(features_k.shape)"
   ],
   "outputs": [],
   "metadata": {}
  },
  {
   "cell_type": "code",
   "execution_count": 24,
   "source": [
    "def nearest_neighbor(features, i, k=10):\r\n",
    "    # find the nearest neighbor of features[i]\r\n",
    "    # cates_logits = torch.mm(features[i].reshape(1,-1), features.transpose(0,1))\r\n",
    "    cates_logits = torch.cosine_similarity(features[i].reshape(1,-1), features)\r\n",
    "    # cates_logits = F.pairwise_distance(features[i], features, p=2)\r\n",
    "    arg = torch.topk(cates_logits, k=k, dim=-1, largest=True)\r\n",
    "    # print(arg)\r\n",
    "    return {\r\n",
    "        'value': arg[0].cpu().numpy().reshape(-1,),\r\n",
    "        'index': arg[1].cpu().numpy().reshape(-1,)\r\n",
    "    }"
   ],
   "outputs": [],
   "metadata": {}
  },
  {
   "cell_type": "code",
   "execution_count": 25,
   "source": [
    "res_list = []\r\n",
    "for i in range(len(train_list)):\r\n",
    "    indexes = np.where(train_labels == i)[0]\r\n",
    "    # print(indexes)\r\n",
    "    data_len = len(indexes)\r\n",
    "    knn_matrix = np.zeros((data_len, 1), dtype=np.int)\r\n",
    "    for j in range(data_len):\r\n",
    "        nearest_index = nearest_neighbor(features, indexes[j], k=2)['index'][-1]\r\n",
    "        # print(nearest_index)\r\n",
    "        knn_matrix[j] = nearest_index\r\n",
    "\r\n",
    "    data_label = train_labels[indexes]\r\n",
    "    in_data_label = in_data_labels[indexes]\r\n",
    "    knn_data_labels = train_labels[knn_matrix].reshape(-1)\r\n",
    "    knn_in_data_labels = in_data_labels[knn_matrix].reshape(-1)\r\n",
    "    # print(data_label, in_data_label, knn_data_labels, knn_in_data_labels)\r\n",
    "\r\n",
    "    data_right = sum(knn_data_labels == data_label)\r\n",
    "    label_right = sum((knn_in_data_labels == in_data_label) * (knn_data_labels == data_label))\r\n",
    "    res = {\r\n",
    "        'data_name': train_list[i],\r\n",
    "        'data_right_rate': data_right / data_len,\r\n",
    "        'label_right_rate': label_right / data_right,\r\n",
    "    }\r\n",
    "    res_list.append(res)\r\n",
    "    # break\r\n",
    "\r\n",
    "output_res = pd.DataFrame(res_list)\r\n",
    "print(output_res)"
   ],
   "outputs": [
    {
     "output_type": "stream",
     "name": "stderr",
     "text": [
      "<ipython-input-25-fe5a12309ee7>:23: RuntimeWarning: invalid value encountered in long_scalars\n",
      "  'label_right_rate': label_right / data_right,\n"
     ]
    },
    {
     "output_type": "stream",
     "name": "stdout",
     "text": [
      "         data_name  data_right_rate  label_right_rate\n",
      "0            ACSF1         1.000000          0.660000\n",
      "1            Adiac         0.997436          0.629820\n",
      "2        ArrowHead         1.000000          0.777778\n",
      "3             Beef         0.900000          0.259259\n",
      "4        BeetleFly         0.750000          0.933333\n",
      "..             ...              ...               ...\n",
      "108           Wine         1.000000          1.000000\n",
      "109   WordSynonyms         0.831461          0.752252\n",
      "110          Worms         1.000000          1.000000\n",
      "111  WormsTwoClass         0.000000               NaN\n",
      "112           Yoga         0.990000          0.818182\n",
      "\n",
      "[113 rows x 3 columns]\n"
     ]
    }
   ],
   "metadata": {}
  },
  {
   "cell_type": "code",
   "execution_count": 26,
   "source": [
    "output_res.to_csv('res_ucr_all.csv', na_rep=\"nan\")"
   ],
   "outputs": [],
   "metadata": {}
  },
  {
   "cell_type": "code",
   "execution_count": 65,
   "source": [
    "indexes = np.random.permutation(np.where(train_labels == 83)[0])[:50]\r\n",
    "# indexes = np.arange(train_data.shape[0])[:100]\r\n",
    "# indexes = np.where(pred != test_labels)[0]\r\n",
    "print(indexes.shape)\r\n",
    "k = 10\r\n",
    "knn_matrix = np.zeros((len(indexes), k), dtype=np.int)\r\n",
    "knn_value_matrix = np.zeros((len(indexes), k))\r\n",
    "for i in range(len(indexes)):\r\n",
    "    arg = nearest_neighbor(features, indexes[i], k=k)\r\n",
    "    # arg = nearest_neighbor(test_features, indexes[i], k=k)\r\n",
    "    knn_value = arg['value']\r\n",
    "    nearest_index = arg['index']\r\n",
    "    knn_matrix[i] = nearest_index\r\n",
    "    knn_value_matrix[i] = knn_value\r\n",
    "knn_labels = train_labels[knn_matrix]\r\n",
    "knn_in_data_labels = in_data_labels[knn_matrix]\r\n",
    "# knn_labels = test_labels[knn_matrix]\r\n",
    "print(knn_matrix)\r\n",
    "print(knn_labels)\r\n",
    "print(knn_in_data_labels)"
   ],
   "outputs": [
    {
     "output_type": "stream",
     "name": "stdout",
     "text": [
      "(50,)\n",
      "[[23407 23856 24246 24310 24005 24316 23999 23912 24309 23891]\n",
      " [23411 23858 24338 24357 24096 23462 24369 24104 23501 24241]\n",
      " [23602 24026 24452 23777 23629 24036 24079 24467 23609 24032]\n",
      " [23675 24131 24490 24457 23962 23617 23579 23943 24437 23691]\n",
      " [23583 24098 24529 23794 24528 23581 24545 23809 23616 23614]\n",
      " [23555 23819 24212 23479 23798 24187 23822 24215 24193 23804]\n",
      " [23575 24016 24525 24537 24030 23605 24057 23673 24569 24048]\n",
      " [23609 24032 24454 24467 24036 23629 24452 24026 24517 23565]\n",
      " [23567 23787 24433 24071 24597 23652 23825 24478 23853 23585]\n",
      " [23504 23956 24370 24408 23993 24396 23978 23924 24425 23973]\n",
      " [23514 23735 24375 23444 23718 24350 24368 23732 23498 23954]\n",
      " [23541 24045 24383 24064 24410 24066 24394 24411 24055 24053]\n",
      " [23698 23842 24583 24269 23959 23509 24499 24063 23694 23891]\n",
      " [23547 24118 24282 23930 23914 24504 23615 23881 24313 24346]\n",
      " [23605 24030 24537 23575 24016 24525 24057 23673 24569 24025]\n",
      " [23591 24100 24446 24169 24014 23440 23695 23907 23512 23734]\n",
      " [23421 24009 24162 23540 24044 24209 24165 24012 23426 24240]\n",
      " [23486 23872 24191 23485 23871 24190 23500 23878 24196 24472]\n",
      " [23684 23989 24494 23923 24515 23494 23952 24366 24558 23890]\n",
      " [23680 23985 24573 24535 23953 23601 24168 23717 23911 24234]\n",
      " [23422 23785 24163 23418 23474 23784 24021 24160 24184 24243]\n",
      " [23701 24142 24586 23571 24089 24559 24121 24522 23650 24135]\n",
      " [23668 24127 24488 23610 23958 24455 23591 24100 24235 23762]\n",
      " [23618 23963 24458 23577 23941 24436 24474 23971 23644 24447]\n",
      " [23524 23741 24275 24279 23743 23536 24329 23712 23414 24247]\n",
      " [23445 24090 24351 23928 24134 24400 24339 24082 23413 24153]\n",
      " [23560 23709 24517 23609 23667 24032 23755 24454 24565 23629]\n",
      " [23462 24096 24357 23411 23858 24338 24196 23537 23878 23967]\n",
      " [23554 24120 24211 24226 23987 23545 23447 24117 24092 24210]\n",
      " [23418 23784 24160 23474 24021 24184 24163 23785 23422 23849]\n",
      " [23682 23900 24574 23665 23491 23895 24563 23874 24365 23572]\n",
      " [23522 23740 24203 24146 24313 23820 23512 24389 23734 24199]\n",
      " [23574 24091 24524 24141 23690 24579 24544 24106 23614 24571]\n",
      " [23428 23934 24342 23553 23972 24002 24387 24414 24463 23883]\n",
      " [23678 23836 24492 23628 24466 23815 23647 23821 24475 23661]\n",
      " [23563 23932 24518 24584 23699 23996 24546 24431 23737 24010]\n",
      " [23490 24102 24264 24328 24130 24590 24000 24314 23549 24300]\n",
      " [23409 23857 24336 23861 24349 23438 24591 24501 23998 23703]\n",
      " [23630 23742 24468 24300 23851 24422 24130 23791 24355 23458]\n",
      " [23674 23983 24570 23598 23951 24533 24565 23755 23667 23672]\n",
      " [23450 24093 24174 23417 23933 24159 23520 24109 24202 24176]\n",
      " [23610 23958 24455 23757 24223 24507 24147 23493 23731 24194]\n",
      " [23471 23868 24359 24344 23860 23431 24361 23869 23477 24577]\n",
      " [23536 23743 24279 24285 23747 23550 24329 23414 23712 24247]\n",
      " [23454 24094 24175 24140 23413 24339 24082 23420 24228 24083]\n",
      " [23455 24095 24176 23450 23520 24093 24109 24174 23417 24241]\n",
      " [23532 24040 24380 24069 24419 24356 24053 24017 23460 24394]\n",
      " [23595 24101 24449 23929 23584 23406 23706 23945 24507 24156]\n",
      " [23637 23886 24472 24219 23753 23513 23961 24374 24438 24515]\n",
      " [23487 23729 24192 23923 24515 24219 23753 23494 23952 24366]]\n",
      "[[83 84 85 85 84 85 84 84 85 84]\n",
      " [83 84 85 85 84 83 85 84 83 85]\n",
      " [83 84 85 84 83 84 84 85 83 84]\n",
      " [83 84 85 85 84 83 83 84 85 83]\n",
      " [83 84 85 84 85 83 85 84 83 83]\n",
      " [83 84 85 83 84 85 84 85 85 84]\n",
      " [83 84 85 85 84 83 84 83 85 84]\n",
      " [83 84 85 85 84 83 85 84 85 83]\n",
      " [83 84 85 84 85 83 84 85 84 83]\n",
      " [83 84 85 85 84 85 84 84 85 84]\n",
      " [83 84 85 83 84 85 85 84 83 84]\n",
      " [83 84 85 84 85 84 85 85 84 84]\n",
      " [83 84 85 85 84 83 85 84 83 84]\n",
      " [83 84 85 84 84 85 83 84 85 85]\n",
      " [83 84 85 83 84 85 84 83 85 84]\n",
      " [83 84 85 85 84 83 83 84 83 84]\n",
      " [83 84 85 83 84 85 85 84 83 85]\n",
      " [83 84 85 83 84 85 83 84 85 85]\n",
      " [83 84 85 84 85 83 84 85 85 84]\n",
      " [83 84 85 85 84 83 85 84 84 85]\n",
      " [83 84 85 83 83 84 84 85 85 85]\n",
      " [83 84 85 83 84 85 84 85 83 84]\n",
      " [83 84 85 83 84 85 83 84 85 84]\n",
      " [83 84 85 83 84 85 85 84 83 85]\n",
      " [83 84 85 85 84 83 85 84 83 85]\n",
      " [83 84 85 84 84 85 85 84 83 84]\n",
      " [83 84 85 83 83 84 84 85 85 83]\n",
      " [83 84 85 83 84 85 85 83 84 84]\n",
      " [83 84 85 85 84 83 83 84 84 85]\n",
      " [83 84 85 83 84 85 85 84 83 84]\n",
      " [83 84 85 83 83 84 85 84 85 83]\n",
      " [83 84 85 84 85 84 83 85 84 85]\n",
      " [83 84 85 84 83 85 85 84 83 85]\n",
      " [83 84 85 83 84 84 85 85 85 84]\n",
      " [83 84 85 83 85 84 83 84 85 83]\n",
      " [83 84 85 85 83 84 85 85 84 84]\n",
      " [83 84 85 85 84 85 84 85 83 85]\n",
      " [83 84 85 84 85 83 85 85 84 83]\n",
      " [83 84 85 85 84 85 84 84 85 83]\n",
      " [83 84 85 83 84 85 85 84 83 83]\n",
      " [83 84 85 83 84 85 83 84 85 85]\n",
      " [83 84 85 84 85 85 84 83 84 85]\n",
      " [83 84 85 85 84 83 85 84 83 85]\n",
      " [83 84 85 85 84 83 85 83 84 85]\n",
      " [83 84 85 84 83 85 84 83 85 84]\n",
      " [83 84 85 83 83 84 84 85 83 85]\n",
      " [83 84 85 84 85 85 84 84 83 85]\n",
      " [83 84 85 84 83 83 84 84 85 85]\n",
      " [83 84 85 85 84 83 84 85 85 85]\n",
      " [83 84 85 84 85 85 84 83 84 85]]\n",
      "[[0 2 1 1 3 1 3 2 1 2]\n",
      " [0 2 2 2 5 0 2 5 0 0]\n",
      " [1 4 3 0 1 4 4 3 1 4]\n",
      " [1 5 3 3 3 1 1 3 3 1]\n",
      " [1 5 4 1 4 1 4 1 1 1]\n",
      " [0 1 0 0 1 0 1 0 0 1]\n",
      " [1 4 4 4 4 1 4 1 4 4]\n",
      " [1 4 3 3 4 1 3 4 4 1]\n",
      " [1 1 3 4 4 1 1 3 1 1]\n",
      " [0 3 2 2 3 2 3 2 2 3]\n",
      " [0 0 2 0 0 2 2 0 0 3]\n",
      " [0 4 2 4 2 4 2 2 4 4]\n",
      " [1 1 4 1 3 0 3 4 1 2]\n",
      " [0 5 1 2 2 3 1 2 1 2]\n",
      " [1 4 4 1 4 4 4 1 4 4]\n",
      " [1 5 3 0 4 0 1 2 0 0]\n",
      " [0 4 0 0 4 0 0 4 0 0]\n",
      " [0 2 0 0 2 0 0 2 0 3]\n",
      " [1 3 3 2 3 0 3 2 4 2]\n",
      " [1 3 4 4 3 1 0 0 2 0]\n",
      " [0 1 0 0 0 1 4 0 0 0]\n",
      " [1 5 4 1 5 4 5 4 1 5]\n",
      " [1 5 3 1 3 3 1 5 0 0]\n",
      " [1 3 3 1 3 3 3 3 1 3]\n",
      " [0 0 1 1 0 0 1 0 0 1]\n",
      " [0 5 2 2 5 2 2 5 0 5]\n",
      " [1 0 4 1 1 4 0 3 4 1]\n",
      " [0 5 2 0 2 2 0 0 2 3]\n",
      " [0 5 0 0 3 0 0 5 5 0]\n",
      " [0 1 0 0 4 0 0 1 0 1]\n",
      " [1 2 4 1 0 2 4 2 2 1]\n",
      " [0 0 0 5 1 1 0 2 0 0]\n",
      " [1 5 4 5 1 4 4 5 1 4]\n",
      " [0 3 2 0 3 3 2 2 3 2]\n",
      " [1 1 3 1 3 1 1 1 3 1]\n",
      " [1 3 4 4 1 3 4 3 0 4]\n",
      " [0 5 1 1 5 4 3 1 0 1]\n",
      " [0 2 2 2 2 0 4 3 3 1]\n",
      " [1 0 3 1 1 2 5 1 2 0]\n",
      " [1 3 4 1 3 4 4 0 1 1]\n",
      " [0 5 0 0 3 0 0 5 0 0]\n",
      " [1 3 3 0 0 3 5 0 0 0]\n",
      " [0 2 2 2 2 0 2 2 0 4]\n",
      " [0 0 1 1 0 0 1 0 0 1]\n",
      " [0 5 0 5 0 2 5 0 0 5]\n",
      " [0 5 0 0 0 5 5 0 0 0]\n",
      " [0 4 2 4 2 2 4 4 0 2]\n",
      " [1 5 3 2 1 0 0 3 3 0]\n",
      " [1 2 3 0 0 0 3 2 3 3]\n",
      " [0 0 0 2 3 0 0 0 3 2]]\n"
     ]
    }
   ],
   "metadata": {}
  },
  {
   "cell_type": "code",
   "execution_count": 54,
   "source": [
    "def plot_ts(plt, ts, label, in_data_label, index, value, color=None):\r\n",
    "    x = range(ts[index].shape[-1])\r\n",
    "    if color:\r\n",
    "        plt.plot(x, ts[index], linewidth=2, color=color)\r\n",
    "    else:\r\n",
    "        plt.plot(x, ts[index], linewidth=2)\r\n",
    "    plt.set_title(f\"index {index} data {label} label {in_data_label} value {np.round(value,3)}\")\r\n",
    "\r\n",
    "def plot_knn(ts, knn_labels, knn_in_data_labels, knn_matrix, knn_value_matrix):\r\n",
    "    k = knn_matrix.shape[1]\r\n",
    "    ts_num = knn_matrix.shape[0]\r\n",
    "    fig = plt.figure(figsize=(8.0*k, 6.0*ts_num))\r\n",
    "    for i in range(ts_num):\r\n",
    "        ax = fig.add_subplot(ts_num, k, i*k + 1)\r\n",
    "        plot_ts(ax, ts, knn_labels[i,0], knn_in_data_labels[i,0], knn_matrix[i,0], knn_value_matrix[i,0], color='red')\r\n",
    "        for j in range(k-1):\r\n",
    "            ax = fig.add_subplot(ts_num, k, i*k + j + 2)\r\n",
    "            plot_ts(ax, ts, knn_labels[i,j+1], knn_in_data_labels[i,j+1], knn_matrix[i,j+1], knn_value_matrix[i,j+1])"
   ],
   "outputs": [],
   "metadata": {}
  },
  {
   "cell_type": "code",
   "execution_count": null,
   "source": [
    "# plot_ts(test_data, test_labels, pred_labels, np.random.permutation(np.where(cates_labels == 2)[0])[:10])\r\n",
    "plot_knn(train_data, knn_labels, knn_in_data_labels, knn_matrix, knn_value_matrix)\r\n",
    "# plot_knn(test_data, knn_labels, knn_matrix, knn_value_matrix)"
   ],
   "outputs": [],
   "metadata": {}
  },
  {
   "cell_type": "code",
   "execution_count": null,
   "source": [
    "cores = torch.nn.functional.normalize(model.net.cores)"
   ],
   "outputs": [],
   "metadata": {}
  },
  {
   "cell_type": "code",
   "execution_count": null,
   "source": [
    "features_with_cores = torch.cat([cluster_features, cores], dim=0)\r\n",
    "print(features_with_cores.shape)"
   ],
   "outputs": [],
   "metadata": {}
  },
  {
   "cell_type": "code",
   "execution_count": null,
   "source": [
    "# features_numpy = features_with_cores.cpu().detach().numpy()\r\n",
    "# features_numpy = features.cpu().detach().numpy()\r\n",
    "# features_numpy = features_list[2].cpu().detach().numpy()\r\n",
    "features_numpy = test_features\r\n",
    "# features_numpy = features\r\n",
    "print('Computing t-SNE embedding')\r\n",
    "tsne = TSNE(n_components=2, init='pca', random_state=0)\r\n",
    "tsne_result = tsne.fit_transform(features_numpy)\r\n",
    "print('t-SNE finished')"
   ],
   "outputs": [],
   "metadata": {}
  },
  {
   "cell_type": "code",
   "execution_count": null,
   "source": [
    "def plot_embedding(data, label, title, xlim=(-80,80), ylim=(-80,80), rgb=False, rgb_value=None):\r\n",
    "    # x_min, x_max = np.min(data, 0), np.max(data, 0)\r\n",
    "    # data = (data - x_min) / (x_max - x_min)\r\n",
    "    \r\n",
    "    label_num = len(np.unique(label))\r\n",
    " \r\n",
    "    fig = plt.figure()\r\n",
    "    plt.xlim(xlim)\r\n",
    "    plt.ylim(ylim)\r\n",
    "#     plt.scatter(data[:,0], data[:,1], c=label, s=8)\r\n",
    "    for i in range(data.shape[0]):\r\n",
    "        if rgb:\r\n",
    "            plt.text(data[i, 0], data[i, 1], str(label[i]), color=(rgb_value[i][0], rgb_value[i][1], rgb_value[i][2]), fontdict={'size': 8})\r\n",
    "        else:\r\n",
    "            plt.text(data[i, 0], data[i, 1], str(label[i]), color=plt.cm.Set1(label[i] / label_num), fontdict={'size': 8})\r\n",
    "    # plt.xticks([])\r\n",
    "    # plt.yticks([])\r\n",
    "    plt.title(title)\r\n",
    "    return fig"
   ],
   "outputs": [],
   "metadata": {}
  },
  {
   "cell_type": "code",
   "execution_count": null,
   "source": [
    "# plot_embedding(tsne_result, test_labels, f'{data_name} gumbel', (-40,45), (-30,55))\r\n",
    "# plot_embedding(tsne_result, pred_labels, f'{data_name} gumbel pred', (-40,45), (-30,55))\r\n",
    "# plot_embedding(tsne_result, test_labels, f'{data_name} softmax', (-40,40), (-40,50))\r\n",
    "plot_embedding(tsne_result, pred_labels, f'{data_name} softmax pred', (-40,40), (-40,50))\r\n",
    "print()"
   ],
   "outputs": [],
   "metadata": {}
  },
  {
   "cell_type": "code",
   "execution_count": null,
   "source": [
    "plot_embedding(tsne_result[:-3], cates_max, '6_data', 80, rgb=True, rgb_value=cates)\r\n",
    "print()"
   ],
   "outputs": [],
   "metadata": {}
  },
  {
   "cell_type": "code",
   "execution_count": null,
   "source": [],
   "outputs": [],
   "metadata": {}
  }
 ],
 "metadata": {
  "orig_nbformat": 4,
  "language_info": {
   "name": "python",
   "version": "3.8.10",
   "mimetype": "text/x-python",
   "codemirror_mode": {
    "name": "ipython",
    "version": 3
   },
   "pygments_lexer": "ipython3",
   "nbconvert_exporter": "python",
   "file_extension": ".py"
  },
  "kernelspec": {
   "name": "python3",
   "display_name": "Python 3.8.10 64-bit ('ts': conda)"
  },
  "interpreter": {
   "hash": "35f94fdc30ba66b5b034cfb6f2a4f3d260d94c7a2091af8eaca267d7a8d324e8"
  }
 },
 "nbformat": 4,
 "nbformat_minor": 2
}