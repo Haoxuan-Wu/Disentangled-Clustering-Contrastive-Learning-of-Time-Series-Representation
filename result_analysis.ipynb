{
 "cells": [
  {
   "cell_type": "code",
   "execution_count": 1,
   "source": [
    "import os\r\n",
    "import numpy as np\r\n",
    "import pandas as pd\r\n",
    "import matplotlib.pyplot as plt"
   ],
   "outputs": [],
   "metadata": {}
  },
  {
   "cell_type": "code",
   "execution_count": 2,
   "source": [
    "run_dir = './eval'"
   ],
   "outputs": [],
   "metadata": {}
  },
  {
   "cell_type": "code",
   "execution_count": 3,
   "source": [
    "run_dic_list = []\r\n",
    "runs = os.listdir(run_dir)\r\n",
    "for run in runs:\r\n",
    "    dic = {}\r\n",
    "    run_split = run.split(\"__\")\r\n",
    "    dic[\"data\"] = run_split[0]\r\n",
    "    dic[\"datetime\"] =  run_split[1][-15:]\r\n",
    "    run_name = run_split[1][:-16]\r\n",
    "    dic[\"name\"] = run_name\r\n",
    "    run_dic_list.append(dic)"
   ],
   "outputs": [],
   "metadata": {}
  },
  {
   "cell_type": "code",
   "execution_count": 4,
   "source": [
    "def print_clf_acc(data, name, datetime='', valid=False):\r\n",
    "    target_run = [run for run in run_dic_list if run[\"data\"]==data and run[\"name\"]==name]\r\n",
    "    print(target_run)\r\n",
    "    if datetime=='':\r\n",
    "        time_sorted_target_run = sorted(target_run, key=lambda target_run: target_run[\"datetime\"], reverse=True)\r\n",
    "        for i in range(len(time_sorted_target_run)):\r\n",
    "            datetime = time_sorted_target_run[i][\"datetime\"]\r\n",
    "            if valid==True:\r\n",
    "                acc_list = []\r\n",
    "                for i in range(100, 10001, 100):\r\n",
    "                    clf_path = os.path.join(run_dir, data + \"__\" + name + '_' + datetime, f'classification_i{i}.pkl')\r\n",
    "                    if os.path.exists(clf_path):\r\n",
    "                        result = pd.read_csv(clf_path)\r\n",
    "                        acc_list.append(result['Accuracy'].mean().round(4))\r\n",
    "                return acc_list\r\n",
    "            else:\r\n",
    "                clf_path = os.path.join(run_dir, data + \"__\" + name + '_' + datetime, 'classification.pkl')\r\n",
    "                if os.path.exists(clf_path):\r\n",
    "                    result = pd.read_csv(clf_path)\r\n",
    "                    acc = result['Accuracy'].mean().round(4)\r\n",
    "                    print(\"{}__{}: {}\".format(data, name, acc))\r\n",
    "                    break\r\n",
    "    else:\r\n",
    "        raise NotImplementedError"
   ],
   "outputs": [],
   "metadata": {}
  },
  {
   "cell_type": "code",
   "execution_count": 5,
   "source": [
    "run_name_list = ['', 'cosine', 'km', 'km_argmax', 'km_argmax_edis', 'km_edis', 'km_K6', 'km_K6_edis', 'km_K6_edis_argmax',]\r\n",
    "\r\n",
    "for name in run_name_list:\r\n",
    "    print_clf_acc('6_data', name)"
   ],
   "outputs": [
    {
     "output_type": "stream",
     "name": "stdout",
     "text": [
      "6_data__: 0.7906\n",
      "6_data__cosine: 0.7874\n",
      "6_data__km: 0.7664\n",
      "6_data__km_argmax: 0.7589\n",
      "6_data__km_argmax_edis: 0.7589\n",
      "6_data__km_edis: 0.7677\n",
      "6_data__km_K6: 0.7728\n",
      "6_data__km_K6_edis: 0.7527\n",
      "6_data__km_K6_edis_argmax: 0.7125\n"
     ]
    }
   ],
   "metadata": {}
  },
  {
   "cell_type": "code",
   "execution_count": 7,
   "source": [
    "run_name_list = ['', 'i1000', 'i3000', 'i4000']\r\n",
    "\r\n",
    "for name in run_name_list:\r\n",
    "    print_clf_acc('10_data', name)"
   ],
   "outputs": [
    {
     "output_type": "stream",
     "name": "stdout",
     "text": [
      "10_data__: 0.7849\n",
      "10_data__i3000: 0.7906\n",
      "10_data__i4000: 0.7873\n"
     ]
    }
   ],
   "metadata": {}
  },
  {
   "cell_type": "code",
   "execution_count": 6,
   "source": [
    "run_name_list = ['valid', 'resv1']\r\n",
    "\r\n",
    "for name in run_name_list:\r\n",
    "    print_clf_acc('ucr_all', name)"
   ],
   "outputs": [
    {
     "output_type": "stream",
     "name": "stdout",
     "text": [
      "[{'data': 'ucr_all', 'datetime': '20210708_092611', 'name': 'valid'}, {'data': 'ucr_all', 'datetime': '20210712_062357', 'name': 'valid'}, {'data': 'ucr_all', 'datetime': '20210713_010754', 'name': 'valid'}]\n",
      "[{'data': 'ucr_all', 'datetime': '20210708_021728', 'name': 'resv1'}]\n",
      "ucr_all__resv1: 0.7989\n"
     ]
    }
   ],
   "metadata": {}
  },
  {
   "cell_type": "code",
   "execution_count": 9,
   "source": [
    "acc_list = print_clf_acc('ucr_all', 'swa_valid', valid=True)"
   ],
   "outputs": [
    {
     "output_type": "stream",
     "name": "stdout",
     "text": [
      "[{'data': 'ucr_all', 'datetime': '20210714_024954', 'name': 'swa_valid'}, {'data': 'ucr_all', 'datetime': '20210714_050757', 'name': 'swa_valid'}, {'data': 'ucr_all', 'datetime': '20210714_143841', 'name': 'swa_valid'}, {'data': 'ucr_all', 'datetime': '20210714_171844', 'name': 'swa_valid'}]\n"
     ]
    }
   ],
   "metadata": {}
  },
  {
   "cell_type": "code",
   "execution_count": 10,
   "source": [
    "print(acc_list)"
   ],
   "outputs": [
    {
     "output_type": "stream",
     "name": "stdout",
     "text": [
      "[0.7654, 0.775, 0.7764, 0.7802, 0.788, 0.7907, 0.7899, 0.7894, 0.7923, 0.7944, 0.7955, 0.7948, 0.7951, 0.7968, 0.7976, 0.7966, 0.7975, 0.796, 0.7975, 0.7973, 0.7974, 0.7962, 0.7934, 0.7971, 0.7967, 0.7966, 0.7971, 0.7964, 0.7967, 0.7961, 0.7968, 0.7966, 0.7964, 0.797, 0.797, 0.7966, 0.7967, 0.7954, 0.7955, 0.7958, 0.7974, 0.7962, 0.7978, 0.7993, 0.7987, 0.7973, 0.7984, 0.7992, 0.7988, 0.7987, 0.7985, 0.7977, 0.7988, 0.7987, 0.798, 0.7969, 0.797, 0.7962, 0.7968, 0.7968, 0.7978, 0.7976, 0.7993, 0.8002, 0.7991, 0.7989, 0.7995, 0.7989, 0.7984, 0.7982, 0.7966, 0.7979, 0.7972, 0.7971, 0.7968, 0.7968, 0.7976, 0.798, 0.7977, 0.7974, 0.7971, 0.7971, 0.7975, 0.7966, 0.7968, 0.7964, 0.7965, 0.7971, 0.796, 0.7966, 0.7972, 0.7972, 0.7976, 0.7974, 0.7974, 0.7981, 0.7975, 0.7976, 0.7977, 0.7981]\n"
     ]
    }
   ],
   "metadata": {}
  },
  {
   "cell_type": "code",
   "execution_count": 44,
   "source": [
    "x = np.arange(100, len(acc_list) * 100 + 1, 100)\r\n",
    "plt.plot(x, acc_list, linewidth=1)\r\n",
    "plt.title(\"argmax (fix cluster encoder)\")\r\n",
    "plt.xlabel(\"iters\")\r\n",
    "plt.ylabel(\"avg acc\")\r\n",
    "plt.show()"
   ],
   "outputs": [
    {
     "output_type": "display_data",
     "data": {
      "text/plain": [
       "<Figure size 432x288 with 1 Axes>"
      ],
      "image/png": "[encoded data removed]"
     },
     "metadata": {
      "needs_background": "light"
     }
    }
   ],
   "metadata": {}
  },
  {
   "cell_type": "code",
   "execution_count": null,
   "source": [],
   "outputs": [],
   "metadata": {}
  }
 ],
 "metadata": {
  "interpreter": {
   "hash": "35f94fdc30ba66b5b034cfb6f2a4f3d260d94c7a2091af8eaca267d7a8d324e8"
  },
  "kernelspec": {
   "name": "python3",
   "display_name": "Python 3.8.10 64-bit ('ts': conda)"
  },
  "language_info": {
   "codemirror_mode": {
    "name": "ipython",
    "version": 3
   },
   "file_extension": ".py",
   "mimetype": "text/x-python",
   "name": "python",
   "nbconvert_exporter": "python",
   "pygments_lexer": "ipython3",
   "version": "3.8.10"
  },
  "orig_nbformat": 2
 },
 "nbformat": 4,
 "nbformat_minor": 2
}